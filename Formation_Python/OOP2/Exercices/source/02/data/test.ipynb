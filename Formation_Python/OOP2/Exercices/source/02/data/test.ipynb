{
 "cells": [
  {
   "cell_type": "code",
   "execution_count": 3,
   "metadata": {},
   "outputs": [
    {
     "data": {
      "text/plain": [
       "Text(0, 0.5, 'L axe des ordonnes')"
      ]
     },
     "execution_count": 3,
     "metadata": {},
     "output_type": "execute_result"
    },
    {
     "data": {
      "image/png": "[encoded data removed]",
      "text/plain": [
       "<Figure size 432x288 with 1 Axes>"
      ]
     },
     "metadata": {
      "needs_background": "light"
     },
     "output_type": "display_data"
    }
   ],
   "source": [
    "import math\n",
    "import matplotlib.pyplot as plt\n",
    "\n",
    "x = [xp for xp in range(-4, 4)]\n",
    "y = [(xp) for xp in x]\n",
    "plt.plot(x, y)\n",
    "plt.xlabel(\"L axe des absisse\")\n",
    "plt.ylabel(\"L axe des ordonnes\")"
   ]
  },
  {
   "cell_type": "code",
   "execution_count": 6,
   "metadata": {},
   "outputs": [
    {
     "data": {
      "text/plain": [
       "Text(0, 0.5, 'L axe des ordonnes')"
      ]
     },
     "execution_count": 6,
     "metadata": {},
     "output_type": "execute_result"
    },
    {
     "data": {
      "image/png": "[encoded data removed]",
      "text/plain": [
       "<Figure size 432x288 with 1 Axes>"
      ]
     },
     "metadata": {
      "needs_background": "light"
     },
     "output_type": "display_data"
    }
   ],
   "source": [
    "import math\n",
    "import matplotlib.pyplot as plt\n",
    "\n",
    "x = [xp for xp in range(1, 5)]\n",
    "y = [(math.log2(xp)) for xp in x]\n",
    "plt.plot(x, y)\n",
    "plt.xlabel(\"L axe des absisse\")\n",
    "plt.ylabel(\"L axe des ordonnes\")"
   ]
  },
  {
   "cell_type": "code",
   "execution_count": 1,
   "metadata": {},
   "outputs": [],
   "source": [
    "import pandas as pd"
   ]
  },
  {
   "cell_type": "code",
   "execution_count": 2,
   "metadata": {},
   "outputs": [
    {
     "data": {
      "text/html": [
       "<div>\n",
       "<style scoped>\n",
       "    .dataframe tbody tr th:only-of-type {\n",
       "        vertical-align: middle;\n",
       "    }\n",
       "\n",
       "    .dataframe tbody tr th {\n",
       "        vertical-align: top;\n",
       "    }\n",
       "\n",
       "    .dataframe thead th {\n",
       "        text-align: right;\n",
       "    }\n",
       "</style>\n",
       "<table border=\"1\" class=\"dataframe\">\n",
       "  <thead>\n",
       "    <tr style=\"text-align: right;\">\n",
       "      <th></th>\n",
       "      <th>id</th>\n",
       "      <th>date</th>\n",
       "      <th>first_name</th>\n",
       "      <th>last_name</th>\n",
       "      <th>email</th>\n",
       "      <th>gender</th>\n",
       "      <th>ip_address</th>\n",
       "      <th>country</th>\n",
       "      <th>price_paid</th>\n",
       "      <th>tax</th>\n",
       "    </tr>\n",
       "  </thead>\n",
       "  <tbody>\n",
       "    <tr>\n",
       "      <th>0</th>\n",
       "      <td>1</td>\n",
       "      <td>03/28/2021</td>\n",
       "      <td>Marylin</td>\n",
       "      <td>Alders</td>\n",
       "      <td>malders0@shop-pro.jp</td>\n",
       "      <td>Male</td>\n",
       "      <td>160.119.8.119</td>\n",
       "      <td>Canada</td>\n",
       "      <td>$5.36</td>\n",
       "      <td>NaN</td>\n",
       "    </tr>\n",
       "    <tr>\n",
       "      <th>1</th>\n",
       "      <td>2</td>\n",
       "      <td>03/19/2021</td>\n",
       "      <td>Hinda</td>\n",
       "      <td>Harridge</td>\n",
       "      <td>hharridge1@gnu.org</td>\n",
       "      <td>Female</td>\n",
       "      <td>210.51.172.132</td>\n",
       "      <td>Canada</td>\n",
       "      <td>$8.32</td>\n",
       "      <td>NaN</td>\n",
       "    </tr>\n",
       "    <tr>\n",
       "      <th>2</th>\n",
       "      <td>3</td>\n",
       "      <td>03/17/2021</td>\n",
       "      <td>Erl</td>\n",
       "      <td>Kilminster</td>\n",
       "      <td>ekilminster2@etsy.com</td>\n",
       "      <td>Male</td>\n",
       "      <td>213.8.101.145</td>\n",
       "      <td>United States</td>\n",
       "      <td>$3.73</td>\n",
       "      <td>20.0</td>\n",
       "    </tr>\n",
       "    <tr>\n",
       "      <th>3</th>\n",
       "      <td>4</td>\n",
       "      <td>03/19/2021</td>\n",
       "      <td>Grata</td>\n",
       "      <td>Brantl</td>\n",
       "      <td>gbrantl3@umn.edu</td>\n",
       "      <td>Female</td>\n",
       "      <td>5.140.237.101</td>\n",
       "      <td>United States</td>\n",
       "      <td>$3.70</td>\n",
       "      <td>20.0</td>\n",
       "    </tr>\n",
       "    <tr>\n",
       "      <th>4</th>\n",
       "      <td>5</td>\n",
       "      <td>03/24/2021</td>\n",
       "      <td>Kanya</td>\n",
       "      <td>Beasant</td>\n",
       "      <td>kbeasant4@jigsy.com</td>\n",
       "      <td>Male</td>\n",
       "      <td>106.252.162.233</td>\n",
       "      <td>Morocco</td>\n",
       "      <td>$9.24</td>\n",
       "      <td>20.0</td>\n",
       "    </tr>\n",
       "    <tr>\n",
       "      <th>...</th>\n",
       "      <td>...</td>\n",
       "      <td>...</td>\n",
       "      <td>...</td>\n",
       "      <td>...</td>\n",
       "      <td>...</td>\n",
       "      <td>...</td>\n",
       "      <td>...</td>\n",
       "      <td>...</td>\n",
       "      <td>...</td>\n",
       "      <td>...</td>\n",
       "    </tr>\n",
       "    <tr>\n",
       "      <th>995</th>\n",
       "      <td>996</td>\n",
       "      <td>03/24/2021</td>\n",
       "      <td>Duff</td>\n",
       "      <td>Errigo</td>\n",
       "      <td>derrigorn@elpais.com</td>\n",
       "      <td>Female</td>\n",
       "      <td>193.84.247.144</td>\n",
       "      <td>France</td>\n",
       "      <td>$3.63</td>\n",
       "      <td>NaN</td>\n",
       "    </tr>\n",
       "    <tr>\n",
       "      <th>996</th>\n",
       "      <td>997</td>\n",
       "      <td>03/17/2021</td>\n",
       "      <td>Ame</td>\n",
       "      <td>Rastall</td>\n",
       "      <td>arastallro@toplist.cz</td>\n",
       "      <td>Female</td>\n",
       "      <td>188.219.12.109</td>\n",
       "      <td>NaN</td>\n",
       "      <td>$4.59</td>\n",
       "      <td>20.0</td>\n",
       "    </tr>\n",
       "    <tr>\n",
       "      <th>997</th>\n",
       "      <td>998</td>\n",
       "      <td>03/13/2021</td>\n",
       "      <td>Betty</td>\n",
       "      <td>Stickels</td>\n",
       "      <td>bstickelsrp@cloudflare.com</td>\n",
       "      <td>Male</td>\n",
       "      <td>199.80.60.87</td>\n",
       "      <td>United States</td>\n",
       "      <td>$7.54</td>\n",
       "      <td>20.0</td>\n",
       "    </tr>\n",
       "    <tr>\n",
       "      <th>998</th>\n",
       "      <td>999</td>\n",
       "      <td>03/17/2021</td>\n",
       "      <td>Paquito</td>\n",
       "      <td>Tesoe</td>\n",
       "      <td>ptesoerq@rakuten.co.jp</td>\n",
       "      <td>Male</td>\n",
       "      <td>0.183.63.11</td>\n",
       "      <td>United States</td>\n",
       "      <td>$5.81</td>\n",
       "      <td>NaN</td>\n",
       "    </tr>\n",
       "    <tr>\n",
       "      <th>999</th>\n",
       "      <td>1000</td>\n",
       "      <td>03/23/2021</td>\n",
       "      <td>Rochelle</td>\n",
       "      <td>Pringuer</td>\n",
       "      <td>rpringuerrr@house.gov</td>\n",
       "      <td>NaN</td>\n",
       "      <td>170.193.249.83</td>\n",
       "      <td>Canada</td>\n",
       "      <td>$8.01</td>\n",
       "      <td>20.0</td>\n",
       "    </tr>\n",
       "  </tbody>\n",
       "</table>\n",
       "<p>1000 rows × 10 columns</p>\n",
       "</div>"
      ],
      "text/plain": [
       "       id        date first_name   last_name                       email  \\\n",
       "0       1  03/28/2021    Marylin      Alders        malders0@shop-pro.jp   \n",
       "1       2  03/19/2021      Hinda    Harridge          hharridge1@gnu.org   \n",
       "2       3  03/17/2021        Erl  Kilminster       ekilminster2@etsy.com   \n",
       "3       4  03/19/2021      Grata      Brantl            gbrantl3@umn.edu   \n",
       "4       5  03/24/2021      Kanya     Beasant         kbeasant4@jigsy.com   \n",
       "..    ...         ...        ...         ...                         ...   \n",
       "995   996  03/24/2021       Duff      Errigo        derrigorn@elpais.com   \n",
       "996   997  03/17/2021        Ame     Rastall       arastallro@toplist.cz   \n",
       "997   998  03/13/2021      Betty    Stickels  bstickelsrp@cloudflare.com   \n",
       "998   999  03/17/2021    Paquito       Tesoe      ptesoerq@rakuten.co.jp   \n",
       "999  1000  03/23/2021   Rochelle    Pringuer       rpringuerrr@house.gov   \n",
       "\n",
       "     gender       ip_address        country price_paid   tax  \n",
       "0      Male    160.119.8.119         Canada      $5.36   NaN  \n",
       "1    Female   210.51.172.132         Canada      $8.32   NaN  \n",
       "2      Male    213.8.101.145  United States      $3.73  20.0  \n",
       "3    Female    5.140.237.101  United States      $3.70  20.0  \n",
       "4      Male  106.252.162.233        Morocco      $9.24  20.0  \n",
       "..      ...              ...            ...        ...   ...  \n",
       "995  Female   193.84.247.144         France      $3.63   NaN  \n",
       "996  Female   188.219.12.109            NaN      $4.59  20.0  \n",
       "997    Male     199.80.60.87  United States      $7.54  20.0  \n",
       "998    Male      0.183.63.11  United States      $5.81   NaN  \n",
       "999     NaN   170.193.249.83         Canada      $8.01  20.0  \n",
       "\n",
       "[1000 rows x 10 columns]"
      ]
     },
     "execution_count": 2,
     "metadata": {},
     "output_type": "execute_result"
    }
   ],
   "source": [
    "pd.read_csv(r\"C:\\Users\\Steve\\Documents\\DataScience\\data.csv\")"
   ]
  },
  {
   "cell_type": "code",
   "execution_count": 1,
   "metadata": {},
   "outputs": [
    {
     "ename": "NameError",
     "evalue": "name 'pd' is not defined",
     "output_type": "error",
     "traceback": [
      "\u001b[1;31m---------------------------------------------------------------------------\u001b[0m",
      "\u001b[1;31mNameError\u001b[0m                                 Traceback (most recent call last)",
      "\u001b[1;32m~\\AppData\\Local\\Temp/ipykernel_13148/371892022.py\u001b[0m in \u001b[0;36m<module>\u001b[1;34m\u001b[0m\n\u001b[1;32m----> 1\u001b[1;33m \u001b[0mdf\u001b[0m \u001b[1;33m=\u001b[0m \u001b[0mpd\u001b[0m\u001b[1;33m.\u001b[0m\u001b[0mread_csv\u001b[0m\u001b[1;33m(\u001b[0m\u001b[1;34mr\"C:\\Users\\Steve\\Documents\\DataScience\\data.csv\"\u001b[0m\u001b[1;33m)\u001b[0m\u001b[1;33m\u001b[0m\u001b[1;33m\u001b[0m\u001b[0m\n\u001b[0m",
      "\u001b[1;31mNameError\u001b[0m: name 'pd' is not defined"
     ]
    }
   ],
   "source": [
    "df = pd.read_csv(r\"C:\\Users\\Steve\\Documents\\DataScience\\data.csv\")"
   ]
  },
  {
   "cell_type": "code",
   "execution_count": 2,
   "metadata": {},
   "outputs": [],
   "source": [
    "import pandas as pd\n"
   ]
  },
  {
   "cell_type": "code",
   "execution_count": 3,
   "metadata": {},
   "outputs": [],
   "source": [
    "df = pd.read_csv(r\"C:\\Users\\Steve\\Documents\\DataScience\\data.csv\")"
   ]
  },
  {
   "cell_type": "code",
   "execution_count": null,
   "metadata": {},
   "outputs": [],
   "source": [
    "df.set_index"
   ]
  }
 ],
 "metadata": {
  "interpreter": {
   "hash": "0d4926cd15dd3815d7b7965aab026f0552e043371ddf0118e2c35be4302e2998"
  },
  "kernelspec": {
   "display_name": "Python 3.9.0 32-bit",
   "name": "python3"
  },
  "language_info": {
   "codemirror_mode": {
    "name": "ipython",
    "version": 3
   },
   "file_extension": ".py",
   "mimetype": "text/x-python",
   "name": "python",
   "nbconvert_exporter": "python",
   "pygments_lexer": "ipython3",
   "version": "3.9.0"
  },
  "orig_nbformat": 4
 },
 "nbformat": 4,
 "nbformat_minor": 2
}
