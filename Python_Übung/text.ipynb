{
 "cells": [
  {
   "cell_type": "code",
   "execution_count": 20,
   "metadata": {},
   "outputs": [
    {
     "name": "stdout",
     "output_type": "stream",
     "text": [
      "(3, 3)\n",
      "Die Lineare_fit: [12.875  0.375 -5.625 -0.5  ]\n",
      "Die predicte Werte: [1. 6. 3.]\n",
      "Die Kosten: 0.0\n"
     ]
    }
   ],
   "source": [
    "import numpy as np\n",
    "\n",
    "\n",
    "\n",
    "# print(erg)\n",
    "def extend_matrix(X):\n",
    "    # TODO: setze X_ext\n",
    "    vek_one = np.ones((X.shape[0], 1))\n",
    "    return np.concatenate((vek_one, X), axis=1)\n",
    "\n",
    "\n",
    "def LR_fit(X, y):\n",
    "    # TODO: berechne theta\n",
    "    Xn = extend_matrix(X)\n",
    "    Xt = Xn.T\n",
    "    a = Xt.dot(Xn)\n",
    "    b = Xt.dot(y)\n",
    "    theta = np.linalg.solve(a, b)\n",
    "    return theta\n",
    "\n",
    "def LR_predict(X, theta):\n",
    "    return extend_matrix(X).dot(theta)\n",
    "\n",
    "def r2_score(X, y, theta):\n",
    "    # TODO: berechne r2\n",
    "    r1 = extend_matrix(X).dot(theta)\n",
    "    c = (r1 - y)**2\n",
    "    r2 = np.sum(c)/2*X.shape[0]\n",
    "    return r2\n",
    "\n",
    "\n",
    "X = np.array([[1, 2, 2],\n",
    "              [2, 1, 4], \n",
    "              [5, 2, 1]\n",
    "    \n",
    "])\n",
    "y =np.array([1, 6, 3])\n",
    "\n",
    "theta = LR_fit(X, y)\n",
    "\n",
    "print(f\"Die Lineare_fit: {theta}\")\n",
    "print(f\"Die predicte Werte: {LR_predict(X, theta)}\")\n",
    "print(f\"Die Kosten: {r2_score(X, y, theta)}\")\n"
   ]
  },
  {
   "cell_type": "code",
   "execution_count": 21,
   "metadata": {},
   "outputs": [
    {
     "name": "stdout",
     "output_type": "stream",
     "text": [
      "[1. 6. 5.]\n"
     ]
    }
   ],
   "source": [
    "from sklearn.linear_model import LinearRegression\n",
    "\n",
    "\n",
    "X = np.array([[1, 2, 2],\n",
    "              [4, 1, 9],\n",
    "              [5, 2, 6]\n",
    "\n",
    "])\n",
    "y =np.array([1, 6, 5])\n",
    "\n",
    "model = LinearRegression()\n",
    "c = model.fit(X, y)\n",
    "s = model.score(X, y)\n",
    "p = model.predict(X)\n",
    "print(p)"
   ]
  }
 ],
 "metadata": {
  "interpreter": {
   "hash": "0d4926cd15dd3815d7b7965aab026f0552e043371ddf0118e2c35be4302e2998"
  },
  "kernelspec": {
   "display_name": "Python 3.9.0 32-bit",
   "language": "python",
   "name": "python3"
  },
  "language_info": {
   "codemirror_mode": {
    "name": "ipython",
    "version": 3
   },
   "file_extension": ".py",
   "mimetype": "text/x-python",
   "name": "python",
   "nbconvert_exporter": "python",
   "pygments_lexer": "ipython3",
   "version": "3.9.0"
  },
  "orig_nbformat": 4
 },
 "nbformat": 4,
 "nbformat_minor": 2
}